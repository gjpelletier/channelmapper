{
 "cells": [
  {
   "cell_type": "markdown",
   "metadata": {},
   "source": [
    "# channelmapper: A workflow for mapping channels in satellite imagery"
   ]
  },
  {
   "cell_type": "markdown",
   "metadata": {},
   "source": [
    "Zoltan Sylvester, Quantitative Clastics Laboratory, UT Austin\n",
    "\n",
    "January 2021"
   ]
  },
  {
   "cell_type": "markdown",
   "metadata": {},
   "source": [
    "## Requirements\n",
    "\n",
    "* opencv\n",
    "* rivamap\n",
    "* numpy\n",
    "* matplotlib\n",
    "* jupyter\n",
    "* geopandas\n",
    "* scipy\n",
    "* scikit-image\n",
    "* shapely\n",
    "* descartes\n",
    "* sklearn\n",
    "* librosa (https://github.com/librosa/librosa; install with: conda install -c conda-forge librosa)"
   ]
  },
  {
   "cell_type": "code",
   "execution_count": 1,
   "metadata": {},
   "outputs": [],
   "source": [
    "import cv2\n",
    "from rivamap import preprocess, singularity_index, delineate, georef, visualization\n",
    "import numpy as np\n",
    "import matplotlib.pyplot as plt\n",
    "import scipy.ndimage.measurements\n",
    "from scipy.signal import savgol_filter\n",
    "import scipy.interpolate\n",
    "from skimage import morphology\n",
    "from scipy.spatial import distance\n",
    "\n",
    "import channelmapper as cm\n",
    "\n",
    "%matplotlib qt"
   ]
  },
  {
   "cell_type": "markdown",
   "metadata": {},
   "source": [
    "## 1. Find centerline"
   ]
  },
  {
   "cell_type": "markdown",
   "metadata": {},
   "source": [
    "### 1.1. Read images, compute water index, compute singularity index, create and save centerline map"
   ]
  },
  {
   "cell_type": "markdown",
   "metadata": {},
   "source": [
    "The Landsat scene used as an example below can be downloaded from here:\n",
    "\n",
    "https://www.dropbox.com/sh/e0sv7zx44v4jb6r/AAAoI2VyiE6ZfVqVDehVz_kra?dl=0\n",
    "\n",
    "The edited/QC-d 'centerlines.TIF' and 'water.TIF' files are available here:\n",
    "\n",
    "https://www.dropbox.com/s/tefn16ypnpfzxeg/centerlines.TIF?dl=0\n",
    "\n",
    "https://www.dropbox.com/s/ut4runvom5056ba/water.TIF?dl=0"
   ]
  },
  {
   "cell_type": "code",
   "execution_count": 2,
   "metadata": {},
   "outputs": [
    {
     "name": "stdout",
     "output_type": "stream",
     "text": [
      "Processing scale: 0\n",
      "Processing scale: 1\n",
      "Processing scale: 2\n",
      "Processing scale: 3\n",
      "Processing scale: 4\n",
      "Processing scale: 5\n",
      "Processing scale: 6\n",
      "Processing scale: 7\n",
      "Processing scale: 8\n",
      "Processing scale: 9\n",
      "Processing scale: 10\n",
      "Processing scale: 11\n",
      "Processing scale: 12\n",
      "Processing scale: 13\n",
      "Processing scale: 14\n"
     ]
    },
    {
     "data": {
      "text/plain": [
       "<matplotlib.image.AxesImage at 0x7fc2388a00d0>"
      ]
     },
     "execution_count": 2,
     "metadata": {},
     "output_type": "execute_result"
    }
   ],
   "source": [
    "dirname = '/Users/zoltan/Dropbox/Channels/Fluvial/Mamore_cutoff/'\n",
    "tilename = 'LC08_L1TP_232070_20180622_20180623_01_RT'\n",
    "\n",
    "# bands 3 and 6 for Landsat 8; bands 2 and 5 for Landsat 4-5\n",
    "# for Landsat 8:\n",
    "B2 = cv2.imread(dirname+tilename+'/'+tilename+'_B3.TIF', cv2.IMREAD_UNCHANGED) \n",
    "B5 = cv2.imread(dirname+tilename+'/'+tilename+'_B6.TIF', cv2.IMREAD_UNCHANGED) \n",
    "# for Landsat 4-5:\n",
    "# B2 = cv2.imread(dirname+tilename+'/'+tilename+'_B2.TIF', cv2.IMREAD_UNCHANGED) \n",
    "# B5 = cv2.imread(dirname+tilename+'/'+tilename+'_B5.TIF', cv2.IMREAD_UNCHANGED) \n",
    "\n",
    "#Compute the modified normalized difference water index of the input and save the result if needed.\n",
    "I1 = preprocess.mndwi(B2, B5)\n",
    "gm = georef.loadGeoMetadata(dirname+tilename+'/'+tilename+'_B4.TIF')\n",
    "# georef.saveAsGeoTiff(gm, I1.astype('float'), dirname+tilename+'/'+tilename[17:25]+\"_mndwi.TIF\")\n",
    "\n",
    "# Create the filters that are needed to compute the multiscale singularity index and apply the index to \n",
    "# extract curvilinear structures from the input image. The singularity index function returns the overall \n",
    "# singularity index response, width estimates, and channel orientation for each pixel whether or not they \n",
    "# are river centerlines. We will find the river centerlines in the next step. You can save or view the \n",
    "# overall singularity index response if needed:\n",
    "filters = singularity_index.SingularityIndexFilters()\n",
    "psi, widthMap, orient = singularity_index.applyMMSI(I1, filters)\n",
    "\n",
    "# Extract and threshold centerlines to delineate rivers:\n",
    "nms = delineate.extractCenterlines(orient, psi)\n",
    "centerlines = delineate.thresholdCenterlines(nms)\n",
    "\n",
    "# label objects in image:\n",
    "s = [[1,1,1],[1,1,1],[1,1,1]]\n",
    "labeled_array, num_features = scipy.ndimage.measurements.label(centerlines.astype('int'), structure=s)\n",
    "labels = np.unique(labeled_array)\n",
    "# measure how big the objects are:\n",
    "sizes = np.bincount(labeled_array.flat)\n",
    "# get rid of the very small pieces:\n",
    "t = labeled_array.copy()\n",
    "for i in range(1,len(sizes)):\n",
    "    if sizes[i]>=50:\n",
    "        t[t==i] = -1\n",
    "t[t>0]=0\n",
    "t[t==-1]=1\n",
    "# display resulting image:\n",
    "plt.figure(figsize=(15,15))\n",
    "plt.imshow(t, cmap='gray')"
   ]
  },
  {
   "cell_type": "code",
   "execution_count": 4,
   "metadata": {},
   "outputs": [],
   "source": [
    "# save image as a TIF file:\n",
    "georef.saveAsGeoTiff(gm, t.astype('float'), \"centerlines.TIF\")"
   ]
  },
  {
   "cell_type": "markdown",
   "metadata": {},
   "source": [
    "### 1.2. QC the centerline in Photoshop"
   ]
  },
  {
   "cell_type": "markdown",
   "metadata": {},
   "source": [
    "Open the centerline file in Photoshop and get rid of any gaps and spots where 4 neighboring pixels are all part of the centerline. The goal is to have one continuous line of pixels, with no bifurcations or thicker segments, from the beginning of the main channel we are mapping to the end. Use the 'pencil' tool inPhotohsop, with the line width set to 1 pixel and zoom in so that you can see the pixels."
   ]
  },
  {
   "cell_type": "markdown",
   "metadata": {},
   "source": [
    "### 1.3. Track centerline (after the Photoshop QC)"
   ]
  },
  {
   "cell_type": "code",
   "execution_count": 5,
   "metadata": {},
   "outputs": [
    {
     "data": {
      "text/plain": [
       "<matplotlib.image.AxesImage at 0x7fc2185e3b20>"
      ]
     },
     "execution_count": 5,
     "metadata": {},
     "output_type": "execute_result"
    }
   ],
   "source": [
    "# label centerline image to find main channel centerline\n",
    "# the goal of this cell is only to figure out whether further Photoshop edits are needed to \n",
    "# get the whole centerline before we proceed to tracking\n",
    "s = [[1,1,1],[1,1,1],[1,1,1]]\n",
    "sk = cv2.imread(\"centerlines.TIF\", cv2.IMREAD_UNCHANGED)\n",
    "sk[(sk!=0) & (sk!=1)] = 0 # make sure that sk only has zeros and ones\n",
    "sk_labeled, nl = scipy.ndimage.measurements.label(sk, structure=s)\n",
    "sk_sizes = np.bincount(sk_labeled.flat)\n",
    "t = sk_labeled.copy()\n",
    "plt.figure(figsize=(15,15))\n",
    "plt.imshow(t, cmap='viridis',vmin=0,vmax=200)"
   ]
  },
  {
   "cell_type": "code",
   "execution_count": 6,
   "metadata": {},
   "outputs": [
    {
     "data": {
      "text/plain": [
       "13677"
      ]
     },
     "execution_count": 6,
     "metadata": {},
     "output_type": "execute_result"
    }
   ],
   "source": [
    "# find largest object (we assume that this is the channel we are looking for, but in rare cases that is not true)\n",
    "ind = np.where(sk_sizes[1:]==np.max(sk_sizes[1:]))[0][0] + 1\n",
    "len(t[t==ind]) # number of pixels in largets centerline in image"
   ]
  },
  {
   "cell_type": "code",
   "execution_count": 8,
   "metadata": {},
   "outputs": [
    {
     "name": "stdout",
     "output_type": "stream",
     "text": [
      "2671 6729\n"
     ]
    }
   ],
   "source": [
    "# once we made sure that the centerline image contains the correct & entire centerline, we proceed to detect it\n",
    "# re-label image\n",
    "s = [[1,1,1],[1,1,1],[1,1,1]]\n",
    "sk = cv2.imread(\"centerlines.TIF\", cv2.IMREAD_UNCHANGED)\n",
    "sk[(sk!=0) & (sk!=1)] = 0 # make sure that sk only has zeros and ones\n",
    "sk_labeled, nl = scipy.ndimage.measurements.label(sk, structure=s)\n",
    "sk_sizes = np.bincount(sk_labeled.flat)\n",
    "t = sk_labeled.copy()\n",
    "t[t==ind] = -1  # change the 'ind' value here to get the correct centerline\n",
    "t[t>0]=0 # set 'background' to zero\n",
    "t[t==-1]=1 # set centerline to '1'\n",
    "\n",
    "y_pix,x_pix = np.where(t==1) # \n",
    "\n",
    "# find starting pixel at bottom of image (if it is the bottom of the image)\n",
    "ind = np.where(y_pix==np.max(y_pix))[0][0]\n",
    "x0 = x_pix[ind]\n",
    "y0 = y_pix[ind]\n",
    "print(x0, y0)\n",
    "\n",
    "# find starting pixel on left side of image\n",
    "# ind = np.where(x_pix==np.min(x_pix))[0][0]\n",
    "# x0 = x_pix[ind]\n",
    "# y0 = y_pix[ind]\n",
    "# print x0, y0\n",
    "\n",
    "# sometimes it is best to locate the starting pixel of the centerline and enter the values manually:\n",
    "# x0 = 2500 # x coordinate of starting point for centerline\n",
    "# y0 = 5999\n",
    "# y_pix,x_pix = np.where(t==1)\n",
    "\n",
    "# 'track' the centerline (= order the pixels from beginning to end)\n",
    "start_ind = np.where((x_pix==x0) & (y_pix==y0))[0][0] # index of starting point\n",
    "# distance matrix for all points on centerline:\n",
    "dist = distance.cdist(np.array([x_pix,y_pix]).T,np.array([x_pix,y_pix]).T)\n",
    "# every point is closest to itself, so we want to set the distances along the diagonal of the matrix to \n",
    "# a number significantly larger than zero:\n",
    "dist[np.diag_indices_from(dist)]=100.0  \n",
    "ind = start_ind # start with the first point\n",
    "clinds = [ind] # list that we use to collect all the centerline indices \n",
    "count = 0\n",
    "while count<len(x_pix): # do this while we find all the points in x_pix and y_pix\n",
    "    d = dist[ind,:].copy() # all distances from point of interest (with index 'ind')\n",
    "    # we want to prevent the tracking to go backwards, so the distances to the last two \n",
    "    # points are increased with 100:\n",
    "    if len(clinds)>2: \n",
    "        d[clinds[-2]]=d[clinds[-2]]+100.0\n",
    "        d[clinds[-3]]=d[clinds[-3]]+100.0\n",
    "    if len(clinds)==2:\n",
    "        d[clinds[-2]]=d[clinds[-2]]+100.0\n",
    "    ind = np.argmin(d) # find index of point that is closest to the point of interest\n",
    "    clinds.append(ind) # add the new point to the list\n",
    "    count=count+1\n",
    "x_pix = x_pix[clinds]\n",
    "y_pix = y_pix[clinds]\n",
    "\n",
    "plt.figure(figsize=(15,15))\n",
    "plt.imshow(sk,cmap='viridis')\n",
    "plt.plot(x_pix,y_pix,'r');"
   ]
  },
  {
   "cell_type": "markdown",
   "metadata": {},
   "source": [
    "### 1.4. Get image corners in UTM coordinates"
   ]
  },
  {
   "cell_type": "code",
   "execution_count": 9,
   "metadata": {},
   "outputs": [],
   "source": [
    "# left x coordinate, delta x, upper y coordinate, delta y; 174900.000, -1655400.000 are the \"official\" coordinates so \n",
    "# 'gm.geotransform' must be the coordinates of the edges of the pixels, whereas the 'official' coordinates refer to \n",
    "# centers of the pixels\n",
    "# dirname = '/Users/zoltan/Dropbox/Channels/Fluvial/Mamore_cutoff/'\n",
    "# tilename = 'LC08_L1TP_232070_20180622_20180623_01_RT'\n",
    "gm = georef.loadGeoMetadata(dirname+tilename+'/'+tilename+'_B4.TIF')\n",
    "\n",
    "left_utm_x = gm.geotransform[0]\n",
    "upper_utm_y = gm.geotransform[3]\n",
    "delta_x = gm.geotransform[1]\n",
    "delta_y = gm.geotransform[5]\n",
    "nx = I1.shape[1]\n",
    "ny = I1.shape[0]\n",
    "right_utm_x = left_utm_x + delta_x*nx\n",
    "lower_utm_y = upper_utm_y + delta_y*ny"
   ]
  },
  {
   "cell_type": "markdown",
   "metadata": {},
   "source": [
    "## 2. Find banks"
   ]
  },
  {
   "cell_type": "markdown",
   "metadata": {},
   "source": [
    "### 2.1. Create binary water index image"
   ]
  },
  {
   "cell_type": "code",
   "execution_count": 10,
   "metadata": {},
   "outputs": [
    {
     "data": {
      "text/plain": [
       "<matplotlib.image.AxesImage at 0x7fc20050db80>"
      ]
     },
     "execution_count": 10,
     "metadata": {},
     "output_type": "execute_result"
    }
   ],
   "source": [
    "water = I1.copy()\n",
    "water[water>0]=1\n",
    "water[water<=0]=0\n",
    "\n",
    "### Dilate centerline image\n",
    "cl_dilated = morphology.binary_dilation(t, morphology.square(40)).astype(np.uint8)\n",
    "\n",
    "### Set water index image to zero in areas farther away from centerline\n",
    "water[np.where(cl_dilated==0)]=0\n",
    "\n",
    "### Find main connected component in water image and delete the rest\n",
    "s = [[1,1,1],[1,1,1],[1,1,1]]\n",
    "water_labeled, nl = scipy.ndimage.measurements.label(water, structure=s)\n",
    "water_sizes = np.bincount(water_labeled.flat)\n",
    "ind = np.where(water_sizes[1:]==np.max(water_sizes[1:]))[0][0] + 1\n",
    "water=np.zeros(np.shape(water))\n",
    "water[np.where(water_labeled==ind)]=1\n",
    "\n",
    "plt.figure(figsize=(15,15))\n",
    "plt.imshow(water,cmap='gray')"
   ]
  },
  {
   "cell_type": "markdown",
   "metadata": {},
   "source": [
    "### 2.2. Save water index image to file (for QC in Photoshop)"
   ]
  },
  {
   "cell_type": "code",
   "execution_count": 48,
   "metadata": {},
   "outputs": [],
   "source": [
    "georef.saveAsGeoTiff(gm, water.astype('float'), \"water.TIF\")"
   ]
  },
  {
   "cell_type": "markdown",
   "metadata": {},
   "source": [
    "### 2.3. QC water image in Photoshop"
   ]
  },
  {
   "cell_type": "markdown",
   "metadata": {},
   "source": [
    "Open the water image in Photoshop and (1) delete any bifurcations or extra bits that would make it difficult to get a nice channel bank; (2) delete all islands in the channel. The goal is to have one white band across the image, with relatively smooth boundaries and no islands. Use the 'pencil' tool inPhotohsop, with the line width set to a small number of pixels and zoom in so that you can see the pixels. You can use the keyboard shortcut 'x' to switch back and forth between the black and white pencil."
   ]
  },
  {
   "cell_type": "markdown",
   "metadata": {},
   "source": [
    "### 2.4. Read back QC-d water index image and find edges"
   ]
  },
  {
   "cell_type": "code",
   "execution_count": 11,
   "metadata": {},
   "outputs": [],
   "source": [
    "filename = \"water.TIF\"\n",
    "water = cv2.imread(filename, cv2.IMREAD_UNCHANGED)\n",
    "plt.figure(figsize=(15,15))\n",
    "plt.grid('off')\n",
    "plt.imshow(water,cmap='gray')\n",
    "C = plt.contour(water, [0.5], linewidths=1, colors='r')"
   ]
  },
  {
   "cell_type": "markdown",
   "metadata": {},
   "source": [
    "### 2.5. Find and separate left bank and right bank"
   ]
  },
  {
   "cell_type": "code",
   "execution_count": 12,
   "metadata": {},
   "outputs": [
    {
     "data": {
      "text/plain": [
       "[<matplotlib.lines.Line2D at 0x7fc218418280>]"
      ]
     },
     "execution_count": 12,
     "metadata": {},
     "output_type": "execute_result"
    }
   ],
   "source": [
    "bank_x = C.allsegs[0][0][:,0] # generate x coordinates from contour\n",
    "bank_y = C.allsegs[0][0][:,1] # generate y coordinates from contour\n",
    "\n",
    "plt.figure(figsize=(15,15))\n",
    "plt.plot(bank_x,bank_y,'.-')\n",
    "plt.axis('equal')\n",
    "plt.gca().invert_yaxis()\n",
    "\n",
    "plt.plot(bank_x[0],bank_y[0],'or') # plot starting point of x and y coordinates\n",
    "# plt.plot(x_pix[0],y_pix[0],'ok')\n",
    "# plt.plot(x_pix[-1],y_pix[-1],'ob')"
   ]
  },
  {
   "cell_type": "code",
   "execution_count": 13,
   "metadata": {},
   "outputs": [],
   "source": [
    "inds=[] # initialize list of 'corner' points"
   ]
  },
  {
   "cell_type": "markdown",
   "metadata": {},
   "source": [
    "This next cell has to be executed four times, to find the four cornerpoints of the channel boundary.\n",
    "\n",
    "Start first with the **upstream** end of the channel, and the point on the **left** bank of the channel.\n",
    "Continue in an **anticlockwise** direction, until you picked all the four points.\n",
    "\n",
    "To start, you need to zoom in to the upstream end of the channel so that you can see the points clearly. After picking the first two points (for the upstream end), you need to zoom into the downstream end."
   ]
  },
  {
   "cell_type": "code",
   "execution_count": 17,
   "metadata": {},
   "outputs": [],
   "source": [
    "ind1 = plt.ginput(1)\n",
    "# bank_x and bank_y either fall on the edge or the middle of a pixel, so we can\n",
    "# round the coordinates in 'ind1' and divide by 2 to find the closest point in the channel outline:\n",
    "ind1 = np.round(np.array(ind1)*2)/2.0\n",
    "ind1 = np.where((bank_x == ind1[0][0]) & (bank_y == ind1[0][1]))[0][0]\n",
    "inds.append(ind1)"
   ]
  },
  {
   "cell_type": "code",
   "execution_count": 19,
   "metadata": {},
   "outputs": [
    {
     "data": {
      "text/plain": [
       "[15088, 15074, 0, 30254]"
      ]
     },
     "execution_count": 19,
     "metadata": {},
     "output_type": "execute_result"
    }
   ],
   "source": [
    "# check that 'inds' has four indices and they make sense\n",
    "inds"
   ]
  },
  {
   "cell_type": "markdown",
   "metadata": {},
   "source": [
    "In the next cells, we split the channel object outline into left bank and right bank.\n",
    "Depending on how the coordinates in the contourline were ordered, you need to use one of the following three cells. Usually the first one works."
   ]
  },
  {
   "cell_type": "code",
   "execution_count": 20,
   "metadata": {},
   "outputs": [],
   "source": [
    "# this is the cell that works with the example dataset\n",
    "rb_x = bank_x[inds[1]:inds[2]:-1] \n",
    "lb_x = bank_x[inds[0]:inds[3]]\n",
    "rb_y = bank_y[inds[1]:inds[2]:-1]\n",
    "lb_y = bank_y[inds[0]:inds[3]]\n",
    "\n",
    "plt.figure()\n",
    "plt.plot(rb_x,rb_y)\n",
    "plt.plot(lb_x,lb_y)\n",
    "plt.plot(rb_x[0],rb_y[0],'ro')\n",
    "plt.axis('equal')\n",
    "plt.gca().invert_yaxis()"
   ]
  },
  {
   "cell_type": "code",
   "execution_count": 499,
   "metadata": {},
   "outputs": [],
   "source": [
    "rb_x = np.hstack((bank_x[0:inds[1]][::-1], bank_x[inds[2]:-1][::-1]))\n",
    "lb_x = bank_x[inds[0]:inds[3]]\n",
    "rb_y = np.hstack((bank_y[0:inds[1]][::-1], bank_y[inds[2]:-1][::-1] ))\n",
    "lb_y = bank_y[inds[0]:inds[3]]\n",
    "\n",
    "plt.figure()\n",
    "plt.plot(rb_x,rb_y)\n",
    "plt.plot(lb_x,lb_y)\n",
    "plt.plot(rb_x[0],rb_y[0],'ro')\n",
    "plt.axis('equal')\n",
    "plt.gca().invert_yaxis()"
   ]
  },
  {
   "cell_type": "code",
   "execution_count": 103,
   "metadata": {},
   "outputs": [],
   "source": [
    "rb_x = bank_x[inds[1]:inds[2]:-1] \n",
    "lb_x = np.hstack((bank_x[inds[0]:-1], bank_x[0:inds[3]] ))\n",
    "rb_y = bank_y[inds[1]:inds[2]:-1]\n",
    "lb_y = np.hstack((bank_y[inds[0]:-1], bank_y[0:inds[3]] ))\n",
    "\n",
    "plt.figure()\n",
    "plt.plot(rb_x,rb_y)\n",
    "plt.plot(lb_x,lb_y)\n",
    "plt.plot(rb_x[0],rb_y[0],'ro')\n",
    "plt.axis('equal')\n",
    "plt.gca().invert_yaxis()"
   ]
  },
  {
   "cell_type": "markdown",
   "metadata": {},
   "source": [
    "## 3. Resample and smooth banks and centerline"
   ]
  },
  {
   "cell_type": "code",
   "execution_count": 21,
   "metadata": {},
   "outputs": [],
   "source": [
    "import scipy.interpolate\n",
    "\n",
    "def resample_and_smooth(x,y,delta_s,smoothing_factor):\n",
    "    dx = np.diff(x); dy = np.diff(y)      \n",
    "    ds = np.sqrt(dx**2+dy**2)\n",
    "    tck, u = scipy.interpolate.splprep([x,y],s=smoothing_factor) # parametric spline representation of curve\n",
    "    unew = np.linspace(0,1,1+int(sum(ds)/delta_s)) # vector for resampling\n",
    "    out = scipy.interpolate.splev(unew,tck) # resampling\n",
    "    xs = out[0]\n",
    "    ys = out[1]\n",
    "    return xs, ys"
   ]
  },
  {
   "cell_type": "code",
   "execution_count": 22,
   "metadata": {},
   "outputs": [
    {
     "data": {
      "text/plain": [
       "[<matplotlib.lines.Line2D at 0x7fc238e306a0>]"
      ]
     },
     "execution_count": 22,
     "metadata": {},
     "output_type": "execute_result"
    }
   ],
   "source": [
    "deltas = 25.0 # sampling distance\n",
    "\n",
    "plt.figure()\n",
    "plt.imshow(I1, extent=[left_utm_x,right_utm_x,lower_utm_y,upper_utm_y], interpolation='none')\n",
    "plt.grid('off')\n",
    "\n",
    "rbx = left_utm_x + 0.5*delta_x + rb_x*delta_x \n",
    "rby = upper_utm_y + 0.5*delta_y + rb_y*delta_y \n",
    "plt.plot(rbx,rby,'.-g')\n",
    "rbx = savgol_filter(rbx, 11, 3)\n",
    "rby = savgol_filter(rby, 11, 3)\n",
    "rbxs, rbys = resample_and_smooth(rbx,rby,deltas,0.5*1000000)\n",
    "plt.plot(rbxs,rbys,'.-r')\n",
    "\n",
    "lbx = left_utm_x + 0.5*delta_x + lb_x*delta_x \n",
    "lby = upper_utm_y + 0.5*delta_y + lb_y*delta_y \n",
    "plt.plot(lbx,lby,'.-g')\n",
    "lbx = savgol_filter(lbx, 11, 3)\n",
    "lby = savgol_filter(lby, 11, 3)\n",
    "lbxs, lbys = resample_and_smooth(lbx,lby,deltas,0.5*1000000)\n",
    "plt.plot(lbxs,lbys,'.-r')\n",
    "\n",
    "x = left_utm_x + 0.5*delta_x + x_pix*delta_x \n",
    "y = upper_utm_y + 0.5*delta_y + y_pix*delta_y \n",
    "plt.plot(x,y,'.-g')\n",
    "x = savgol_filter(x, 21, 3)\n",
    "y = savgol_filter(y, 21, 3)\n",
    "plt.plot(x,y,'.-y')\n",
    "xs, ys = resample_and_smooth(x,y,deltas,0.5*1000000)\n",
    "plt.plot(xs,ys,'.-r')"
   ]
  },
  {
   "cell_type": "code",
   "execution_count": 23,
   "metadata": {},
   "outputs": [],
   "source": [
    "# replace variables with smoothed versions\n",
    "x = xs\n",
    "y = ys\n",
    "rbx = rbxs\n",
    "rby = rbys\n",
    "lbx = lbxs\n",
    "lby = lbys"
   ]
  },
  {
   "cell_type": "markdown",
   "metadata": {},
   "source": [
    "## 4. Make sure centerline and banks have roughly the same lengths"
   ]
  },
  {
   "cell_type": "markdown",
   "metadata": {},
   "source": [
    "This bit is needed because sometimes the centerline is longer than the banks."
   ]
  },
  {
   "cell_type": "code",
   "execution_count": 28,
   "metadata": {},
   "outputs": [],
   "source": [
    "# use a KD-tree to find closest point to location of click:\n",
    "from sklearn.neighbors import KDTree\n",
    "tree = KDTree(np.vstack((x, y)).T)\n",
    "\n",
    "fig = plt.figure()\n",
    "ax = fig.add_subplot(111)\n",
    "\n",
    "ax.plot(x, y, '.-') \n",
    "ax.plot(lbx, lby, 'k')\n",
    "ax.plot(rbx, rby, 'k')\n",
    "plt.axis('equal');"
   ]
  },
  {
   "cell_type": "markdown",
   "metadata": {},
   "source": [
    "Zoom into the area of interest before executing this next cell."
   ]
  },
  {
   "cell_type": "code",
   "execution_count": 29,
   "metadata": {},
   "outputs": [
    {
     "name": "stdout",
     "output_type": "stream",
     "text": [
      "13895\n"
     ]
    }
   ],
   "source": [
    "# click on point where you want to cut the centerline\n",
    "ind = plt.ginput(1)\n",
    "nearest_dist, nearest_ind = tree.query(np.reshape([ind[0][0],ind[0][1]], (1, -1)))\n",
    "ind = nearest_ind[0][0]\n",
    "plt.plot(x[ind], y[ind], 'ro')\n",
    "print(ind)"
   ]
  },
  {
   "cell_type": "code",
   "execution_count": 30,
   "metadata": {},
   "outputs": [],
   "source": [
    "# get rid of the extra bit of centerline (at the downstream end):\n",
    "x = x[:ind+1]\n",
    "y = y[:ind+1]"
   ]
  },
  {
   "cell_type": "code",
   "execution_count": 26,
   "metadata": {},
   "outputs": [],
   "source": [
    "# get rid of the extra bit of centerline (at the upstream end):\n",
    "x = x[ind:]\n",
    "y = y[ind:]"
   ]
  },
  {
   "cell_type": "code",
   "execution_count": 31,
   "metadata": {},
   "outputs": [],
   "source": [
    "# plotting for QC:\n",
    "fig = plt.figure()\n",
    "ax = fig.add_subplot(111)\n",
    "\n",
    "ax.plot(x, y, '.-') \n",
    "ax.plot(lbx, lby, 'k')\n",
    "ax.plot(rbx, rby, 'k')\n",
    "plt.axis('equal');"
   ]
  },
  {
   "cell_type": "markdown",
   "metadata": {},
   "source": [
    "## 5. Create channel segment polygons for one channel"
   ]
  },
  {
   "cell_type": "markdown",
   "metadata": {},
   "source": [
    "### 5.1. Estimate left- and right-widths, using dynamic time warping"
   ]
  },
  {
   "cell_type": "code",
   "execution_count": 38,
   "metadata": {},
   "outputs": [],
   "source": [
    "rbw, lbw, pnr, qnr, pnl, qnl = cm.estimate_half_widths(x, y, rbx, lbx, rby, lby)"
   ]
  },
  {
   "cell_type": "markdown",
   "metadata": {},
   "source": [
    "### 5.2. Create channel segment polygons"
   ]
  },
  {
   "cell_type": "code",
   "execution_count": 39,
   "metadata": {},
   "outputs": [
    {
     "data": {
      "application/vnd.jupyter.widget-view+json": {
       "model_id": "d9cba1e754ad4654890ac2281a2c3236",
       "version_major": 2,
       "version_minor": 0
      },
      "text/plain": [
       "HBox(children=(HTML(value=''), FloatProgress(value=0.0, max=13895.0), HTML(value='')))"
      ]
     },
     "metadata": {},
     "output_type": "display_data"
    },
    {
     "name": "stdout",
     "output_type": "stream",
     "text": [
      "\n"
     ]
    }
   ],
   "source": [
    "polys = cm.create_channel_segment_polygons(x, y, rbx, rby, lbx, lby, lbw, rbw, deltas=25.0, extra_width=50.0)"
   ]
  },
  {
   "cell_type": "markdown",
   "metadata": {},
   "source": [
    "### 5.3. Crop polygons to the channel width"
   ]
  },
  {
   "cell_type": "code",
   "execution_count": 43,
   "metadata": {},
   "outputs": [
    {
     "data": {
      "application/vnd.jupyter.widget-view+json": {
       "model_id": "37415d844f5e41aa9d6e47df269d2ae2",
       "version_major": 2,
       "version_minor": 0
      },
      "text/plain": [
       "HBox(children=(HTML(value=''), FloatProgress(value=0.0, max=13895.0), HTML(value='')))"
      ]
     },
     "metadata": {},
     "output_type": "display_data"
    },
    {
     "name": "stdout",
     "output_type": "stream",
     "text": [
      "\n"
     ]
    }
   ],
   "source": [
    "# if you get a \"TopologyException\" error here, it means that the input channel banks have a self-intersection \n",
    "# at the location given by the coordinates in the error message. This needs to be eliminated before moving on, \n",
    "# e.g., by editing the line manually in QGIS.\n",
    "\n",
    "ch = cm.create_channel_polygon(lbx, lby, rbx, rby)\n",
    "cropped_polys = cm.crop_polygons_to_channel_width(polys, ch)"
   ]
  },
  {
   "cell_type": "markdown",
   "metadata": {},
   "source": [
    "### 5.4. Find overlapping polygons"
   ]
  },
  {
   "cell_type": "code",
   "execution_count": 44,
   "metadata": {},
   "outputs": [
    {
     "data": {
      "application/vnd.jupyter.widget-view+json": {
       "model_id": "2e78adc1e9d4461a9053a396ed517b64",
       "version_major": 2,
       "version_minor": 0
      },
      "text/plain": [
       "HBox(children=(HTML(value=''), FloatProgress(value=0.0, max=2779.0), HTML(value='')))"
      ]
     },
     "metadata": {},
     "output_type": "display_data"
    }
   ],
   "source": [
    "inds = cm.find_overlapping_polys(cropped_polys, 1.0) "
   ]
  },
  {
   "cell_type": "code",
   "execution_count": 45,
   "metadata": {},
   "outputs": [
    {
     "data": {
      "text/plain": [
       "array([ 530,  531,  532,  533,  534,  535,  536,  538,  539,  540,  541,\n",
       "        542,  543,  544,  582,  583,  584,  585,  588,  589,  590,  591,\n",
       "        592,  593, 1644, 1645, 1646, 1647, 1648, 1649, 1650, 1651, 1652,\n",
       "       1653, 1654, 1657, 1658, 1659, 1660, 1661, 1662, 1663, 1664, 3030,\n",
       "       3031, 3032, 3033, 3034, 3035, 3036, 3037, 3038, 3039, 3042, 3043,\n",
       "       3044, 3045, 3046, 3047, 3048, 3049, 3050, 3051, 3052, 3053, 3054,\n",
       "       3055, 3056, 3057, 3058, 3059, 3060, 3061, 3062, 3063, 3064, 3065,\n",
       "       3066, 3067, 3068, 3069, 3070])"
      ]
     },
     "execution_count": 45,
     "metadata": {},
     "output_type": "execute_result"
    }
   ],
   "source": [
    "inds"
   ]
  },
  {
   "cell_type": "code",
   "execution_count": 46,
   "metadata": {},
   "outputs": [
    {
     "name": "stdout",
     "output_type": "stream",
     "text": [
      "\n"
     ]
    },
    {
     "data": {
      "text/plain": [
       "array([ 530,  544,  582,  593, 1644, 1664, 3030, 3070])"
      ]
     },
     "execution_count": 46,
     "metadata": {},
     "output_type": "execute_result"
    }
   ],
   "source": [
    "# indices where new groups of overlapping polygons start\n",
    "inds1 = np.sort(np.hstack((inds[np.where(np.diff(inds)>10)[0]],inds[np.where(np.diff(inds)>10)[0]+1])))\n",
    "if len(inds)>0:\n",
    "    inds1 = np.hstack((inds[0],inds1,inds[-1]))\n",
    "inds1"
   ]
  },
  {
   "cell_type": "markdown",
   "metadata": {},
   "source": [
    "### 5.5. Fix overlapping polygons"
   ]
  },
  {
   "cell_type": "code",
   "execution_count": 48,
   "metadata": {},
   "outputs": [],
   "source": [
    "# here we do the actual 'repolygonization'\n",
    "# 'cropped_polys_new' is the list of polygons in which the overlapping polygons have been replaced\n",
    "cropped_polys_new = cropped_polys[:] # note that lists are mutable, so we need to make a copy\n",
    "new_poly_inds = []\n",
    "pad = 10\n",
    "crit_dist = 100\n",
    "\n",
    "for i in range(int(len(inds1)/2)):\n",
    "    i1 = inds1[2*i]\n",
    "    i2 = inds1[2*i+1]\n",
    "    bend, x1, x2, y1, y2 = cm.repolygonize_bend(cropped_polys, cropped_polys_new, i1, i2, pad,\n",
    "                                                crit_dist, new_poly_inds, x, y)"
   ]
  },
  {
   "cell_type": "code",
   "execution_count": 51,
   "metadata": {},
   "outputs": [],
   "source": [
    "from descartes import PolygonPatch\n",
    "\n",
    "# plotting for QC:\n",
    "fig = plt.figure()\n",
    "ax = fig.add_subplot(111)\n",
    "for poly in cropped_polys_new:\n",
    "    if len(poly.exterior.coords)>0:\n",
    "        ax.add_patch(PolygonPatch(poly,facecolor='none',edgecolor='k'))\n",
    "plt.plot(lbx,lby,'k.')\n",
    "plt.plot(rbx,rby,'k.')\n",
    "plt.plot(x, y,'b.-')\n",
    "plt.axis('equal');"
   ]
  },
  {
   "cell_type": "code",
   "execution_count": 56,
   "metadata": {},
   "outputs": [
    {
     "data": {
      "text/plain": [
       "[<matplotlib.lines.Line2D at 0x7fbb00025250>]"
      ]
     },
     "execution_count": 56,
     "metadata": {},
     "output_type": "execute_result"
    }
   ],
   "source": [
    "plt.figure()\n",
    "plt.plot(cropped_polys_new[0].exterior.xy[0], cropped_polys_new[0].exterior.xy[1], '.-')"
   ]
  },
  {
   "cell_type": "code",
   "execution_count": 57,
   "metadata": {},
   "outputs": [],
   "source": [
    "# usually the first few and the last few polygons are not \"good\", so here we get rid of them, \n",
    "# as well as truncate the centerline. Note that it is a good idea to get rid of the first and last polygons,\n",
    "# even if they look fine at first sight\n",
    "cropped_polys_new = cropped_polys_new[1:-4]\n",
    "x = x[1:-4]\n",
    "y = y[1:-4]"
   ]
  },
  {
   "cell_type": "markdown",
   "metadata": {},
   "source": [
    "### 5.6. Simplify polygons to 4 corner points"
   ]
  },
  {
   "cell_type": "code",
   "execution_count": 58,
   "metadata": {},
   "outputs": [],
   "source": [
    "cropped_polys_new = cm.simplify_all_polygons(cropped_polys_new, deltas=25.0)"
   ]
  },
  {
   "cell_type": "markdown",
   "metadata": {},
   "source": [
    "### 5.7. Create new bank coordinates from polygons"
   ]
  },
  {
   "cell_type": "code",
   "execution_count": 59,
   "metadata": {},
   "outputs": [],
   "source": [
    "rbxn, rbyn, lbxn, lbyn = cm.create_new_bank_coordinates(cropped_polys_new, x, y)"
   ]
  },
  {
   "cell_type": "markdown",
   "metadata": {},
   "source": [
    "### 5.8. Write new bank coordinates to shapefile"
   ]
  },
  {
   "cell_type": "code",
   "execution_count": null,
   "metadata": {},
   "outputs": [],
   "source": [
    "import geopandas as gpd\n",
    "\n",
    "dirname = '/Users/zoltan/Dropbox/Channels/Fluvial/Mamore_cutoff/'\n",
    "\n",
    "gs = gpd.GeoSeries(LineString(np.vstack((x,y)).T))\n",
    "gs.crs = {'init' :'epsg:32620'}\n",
    "gs.to_file(dirname+'cline_2018.shp')\n",
    "\n",
    "gs = gpd.GeoSeries(LineString(np.vstack((rbxn,rbyn)).T))\n",
    "gs.crs = {'init' :'epsg:32620'}\n",
    "gs.to_file(dirname+'rb_2018.shp')\n",
    "\n",
    "gs = gpd.GeoSeries(LineString(np.vstack((lbxn,lbyn)).T))\n",
    "gs.crs = {'init' :'epsg:32620'}\n",
    "gs.to_file(dirname+'lb_2018.shp')"
   ]
  },
  {
   "cell_type": "markdown",
   "metadata": {},
   "source": [
    "### 5.9. Write channel segment polygons to shapefile"
   ]
  },
  {
   "cell_type": "code",
   "execution_count": 64,
   "metadata": {},
   "outputs": [],
   "source": [
    "# compute channel widths and areas of channel segment polygons \n",
    "poly_areas = []\n",
    "widths = []\n",
    "count = 0\n",
    "for poly in cropped_polys_new:\n",
    "    poly_areas.append(poly.area)\n",
    "    width1 = np.sqrt((lbxn[count]-rbxn[count])**2 + (lbyn[count]-rbyn[count])**2)\n",
    "    width2 = np.sqrt((lbxn[count+1]-rbxn[count+1])**2 + (lbyn[count+1]-rbyn[count+1])**2)\n",
    "    width = 0.5*(width1+width2)\n",
    "    widths.append(width)\n",
    "    count = count+1"
   ]
  },
  {
   "cell_type": "code",
   "execution_count": 65,
   "metadata": {},
   "outputs": [
    {
     "data": {
      "text/plain": [
       "[<matplotlib.lines.Line2D at 0x7fc22e1ee250>]"
      ]
     },
     "execution_count": 65,
     "metadata": {},
     "output_type": "execute_result"
    }
   ],
   "source": [
    "plt.figure()\n",
    "plt.plot(widths)"
   ]
  },
  {
   "cell_type": "code",
   "execution_count": null,
   "metadata": {},
   "outputs": [],
   "source": [
    "polydata = {'age': '20180622', 'area': poly_areas, 'width': widths}\n",
    "df = pd.DataFrame(polydata)\n",
    "gdf = gpd.GeoDataFrame(df, geometry=cropped_polys_new)\n",
    "gdf.crs = {'init' :'epsg:32620'}\n",
    "gdf.to_file(dirname+'polys_2018.shp')"
   ]
  }
 ],
 "metadata": {
  "kernelspec": {
   "display_name": "Python 3",
   "language": "python",
   "name": "python3"
  },
  "language_info": {
   "codemirror_mode": {
    "name": "ipython",
    "version": 3
   },
   "file_extension": ".py",
   "mimetype": "text/x-python",
   "name": "python",
   "nbconvert_exporter": "python",
   "pygments_lexer": "ipython3",
   "version": "3.8.2"
  }
 },
 "nbformat": 4,
 "nbformat_minor": 4
}
