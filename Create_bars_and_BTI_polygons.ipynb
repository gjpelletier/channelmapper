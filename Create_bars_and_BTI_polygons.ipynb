{
 "cells": [
  {
   "cell_type": "code",
   "execution_count": 2,
   "metadata": {},
   "outputs": [
    {
     "name": "stdout",
     "output_type": "stream",
     "text": [
      "/Users/zoltan/Dropbox/Channels/channelmapper\n"
     ]
    }
   ],
   "source": [
    "cd /Users/zoltan/Dropbox/Channels/channelmapper"
   ]
  },
  {
   "cell_type": "code",
   "execution_count": 3,
   "metadata": {},
   "outputs": [],
   "source": [
    "import os\n",
    "import numpy as np\n",
    "import matplotlib.pyplot as plt\n",
    "import scipy.interpolate\n",
    "import pandas as pd\n",
    "import shapefile\n",
    "from descartes import PolygonPatch\n",
    "from tqdm.notebook import tqdm, trange\n",
    "import datetime\n",
    "\n",
    "import channelmapper as cm\n",
    "\n",
    "%matplotlib qt\n",
    "\n",
    "%config InlineBackend.figure_format = 'svg'\n",
    "plt.rcParams['pdf.fonttype'] = 42"
   ]
  },
  {
   "cell_type": "markdown",
   "metadata": {},
   "source": [
    "# I. Create bars, scrolls, and BTI polygons for a sequence of channels"
   ]
  },
  {
   "cell_type": "markdown",
   "metadata": {},
   "source": [
    "### 1. Create initial set of bars"
   ]
  },
  {
   "cell_type": "code",
   "execution_count": 30,
   "metadata": {},
   "outputs": [],
   "source": [
    "dates = ['19860716', '19870703', '19880806', '19890708', '19900727', '19910612', '19920724', '19930719', \n",
    "         '19940807', '19950810', '19960609', '19970714', '19980717', '19990720', '20000706', '20010725',\n",
    "         '20030715', '20040701', '20050704', '20060723', '20070811', '20080712', '20090731', '20100702',\n",
    "         '20110806', '20130710', '20140713', '20150801', '20160718', '20170721', '20180622']"
   ]
  },
  {
   "cell_type": "code",
   "execution_count": 5,
   "metadata": {},
   "outputs": [
    {
     "data": {
      "application/vnd.jupyter.widget-view+json": {
       "model_id": "9546e82c37864daebf512e9da85ed6fb",
       "version_major": 2,
       "version_minor": 0
      },
      "text/plain": [
       "HBox(children=(HTML(value=''), FloatProgress(value=0.0, max=30.0), HTML(value='')))"
      ]
     },
     "metadata": {},
     "output_type": "display_data"
    },
    {
     "name": "stdout",
     "output_type": "stream",
     "text": [
      "\n"
     ]
    },
    {
     "data": {
      "application/vnd.jupyter.widget-view+json": {
       "model_id": "43d97a62a3944c61888b76fca07ababc",
       "version_major": 2,
       "version_minor": 0
      },
      "text/plain": [
       "HBox(children=(HTML(value=''), FloatProgress(value=0.0, max=30.0), HTML(value='')))"
      ]
     },
     "metadata": {},
     "output_type": "display_data"
    },
    {
     "name": "stdout",
     "output_type": "stream",
     "text": [
      "\n"
     ]
    },
    {
     "data": {
      "application/vnd.jupyter.widget-view+json": {
       "model_id": "161fedf662f34630bb9978d49ce36a96",
       "version_major": 2,
       "version_minor": 0
      },
      "text/plain": [
       "HBox(children=(HTML(value=''), FloatProgress(value=0.0, max=30.0), HTML(value='')))"
      ]
     },
     "metadata": {},
     "output_type": "display_data"
    },
    {
     "name": "stdout",
     "output_type": "stream",
     "text": [
      "\n"
     ]
    }
   ],
   "source": [
    "# this assumes that the channel banks exist as shapefiles in the directory called 'dirname' and the files are named\n",
    "# as 'lb_2018' (left bank) and 'rb_2018' (right bank)\n",
    "\n",
    "ts = len(dates) # this takes ~40 minutes\n",
    "dirname = '/Users/zoltan/Dropbox/Channels/channelmapper/shapefiles/'\n",
    "fig = plt.figure()\n",
    "ax = fig.add_subplot(111)\n",
    "bars, erosions, chs, all_chs, jumps, cutoffs = cm.create_bars(dates[:ts], 1e6, dirname, ax)\n",
    "plt.axis('equal');"
   ]
  },
  {
   "cell_type": "markdown",
   "metadata": {},
   "source": [
    "### 2. Create BTI polygons"
   ]
  },
  {
   "cell_type": "code",
   "execution_count": 6,
   "metadata": {},
   "outputs": [
    {
     "data": {
      "application/vnd.jupyter.widget-view+json": {
       "model_id": "c1bc9e96ed034c20a5466a310cdd2545",
       "version_major": 2,
       "version_minor": 0
      },
      "text/plain": [
       "HBox(children=(HTML(value=''), FloatProgress(value=0.0, max=30.0), HTML(value='')))"
      ]
     },
     "metadata": {},
     "output_type": "display_data"
    },
    {
     "name": "stdout",
     "output_type": "stream",
     "text": [
      "\n"
     ]
    }
   ],
   "source": [
    "# this assumes that the channel centerlines and small channel polygons exist as shapefiles \n",
    "# in the directory called 'dirname' and they are named as 'cline_2018' and 'polys_2018' (for an image from 2018)\n",
    "\n",
    "W = 350.0 # channel width in meters\n",
    "kl = 60.0 # migration rate constant in meters/year\n",
    "deltas = 25.0 # distance between points along centerline (meters)\n",
    "\n",
    "all_polys = []\n",
    "all_btis = []\n",
    "all_curvs = []\n",
    "all_migr_rates = []\n",
    "all_s = []\n",
    "for ts in trange(len(dates)-1):\n",
    "    x1, x2, y1, y2, polys, bti, curv, migr_rate, s = cm.get_bti_polys(dates,dirname,ts1=ts,ts2=ts+1,deltas=deltas,W=W,kl=kl)\n",
    "    all_polys.append(polys)\n",
    "    all_btis.append(bti)\n",
    "    all_curvs.append(curv)\n",
    "    all_migr_rates.append(migr_rate)\n",
    "    all_s.append(s)"
   ]
  },
  {
   "cell_type": "markdown",
   "metadata": {},
   "source": [
    "### 3. Organize everything into bar hierarchy and save BTI polygons"
   ]
  },
  {
   "cell_type": "code",
   "execution_count": 7,
   "metadata": {},
   "outputs": [
    {
     "data": {
      "application/vnd.jupyter.widget-view+json": {
       "model_id": "829dee71ab6646fe8eec6d18e8af1df4",
       "version_major": 2,
       "version_minor": 0
      },
      "text/plain": [
       "HBox(children=(HTML(value=''), FloatProgress(value=0.0, max=30.0), HTML(value='')))"
      ]
     },
     "metadata": {},
     "output_type": "display_data"
    },
    {
     "name": "stdout",
     "output_type": "stream",
     "text": [
      "\n"
     ]
    }
   ],
   "source": [
    "Bars, bti_ages, bti_areas, bti_polys, bti_indices = cm.create_bar_hierarchy(bars, cutoffs, dates, all_polys, all_btis)"
   ]
  },
  {
   "cell_type": "code",
   "execution_count": 512,
   "metadata": {},
   "outputs": [],
   "source": [
    "import geopandas as gpd\n",
    "\n",
    "dirname = '/Users/zoltan/Dropbox/Channels/channelmapper/shapefiles/'\n",
    "btidata = {'age': bti_ages, 'area': bti_areas, 'bti': bti_indices}\n",
    "df = pd.DataFrame(btidata)\n",
    "gdf = gpd.GeoDataFrame(df, geometry=bti_polys)\n",
    "gdf.crs = {'init' :'epsg:32620'}\n",
    "gdf.to_file(dirname + 'bti_polygons_updated_'+dates[-1][:4]+'.shp')"
   ]
  },
  {
   "cell_type": "code",
   "execution_count": 15,
   "metadata": {},
   "outputs": [
    {
     "data": {
      "application/vnd.jupyter.widget-view+json": {
       "model_id": "e0a58378ba3946539c4a2d37c4591145",
       "version_major": 2,
       "version_minor": 0
      },
      "text/plain": [
       "HBox(children=(HTML(value=''), FloatProgress(value=0.0, max=30.0), HTML(value='')))"
      ]
     },
     "metadata": {},
     "output_type": "display_data"
    },
    {
     "name": "stdout",
     "output_type": "stream",
     "text": [
      "\n"
     ]
    }
   ],
   "source": [
    "# plot scroll bars colored by age\n",
    "fig = cm.plot_scroll_bars(bars, cutoffs, dates)"
   ]
  },
  {
   "cell_type": "code",
   "execution_count": 16,
   "metadata": {},
   "outputs": [
    {
     "data": {
      "application/vnd.jupyter.widget-view+json": {
       "model_id": "07e32f066727411fa8bd1cc5c0131199",
       "version_major": 2,
       "version_minor": 0
      },
      "text/plain": [
       "HBox(children=(HTML(value=''), FloatProgress(value=0.0, max=30.0), HTML(value='')))"
      ]
     },
     "metadata": {},
     "output_type": "display_data"
    },
    {
     "name": "stdout",
     "output_type": "stream",
     "text": [
      "\n"
     ]
    }
   ],
   "source": [
    "# plot scroll bars colored by BTI values\n",
    "fig = cm.plot_btis(Bars, lw = 0.1, vmin = -2, vmax = 2)"
   ]
  },
  {
   "cell_type": "markdown",
   "metadata": {},
   "source": [
    "# II. Summarize migration rates and channel widths"
   ]
  },
  {
   "cell_type": "markdown",
   "metadata": {},
   "source": [
    "Indices of segments with valid migration rate values:\n",
    "\n",
    "0: 1986-1987: 1038, 13607\n",
    "\n",
    "1: 1987-1988: 26, 9625; 10235, 12652\n",
    "\n",
    "2: 1988-1989: all is good\n",
    "\n",
    "3: 1989-1990: 520, 13186\n",
    "\n",
    "4: 1990-1991: 28, 5050; 5360, -1\n",
    "\n",
    "5: 1991-1992: 897, 7604; 7900, 16024\n",
    "\n",
    "6: 1992-1993: 0, 13481\n",
    "\n",
    "7: 1993-1994: 0, 4739; 4936, -1\n",
    "\n",
    "8: 1994-1995: 0, 9520; 9822, 14173\n",
    "\n",
    "9: 1995-1996: 51, 13815\n",
    "\n",
    "10: 1996-1997: 0, 13560\n",
    "\n",
    "11: 1997-1998: 0, 3016; 4035, 13640\n",
    "\n",
    "12: 1998-1999: 623, -1\n",
    "\n",
    "13: 1999-2000: 26, 13530\n",
    "\n",
    "14: 2000-2001: 0, 15716\n",
    "\n",
    "15: 2001-2003: 105, 4723; 4952, 15847\n",
    "\n",
    "16: 2003-2004: all is good\n",
    "\n",
    "17: 2004-2005: 35, 14480\n",
    "\n",
    "18: 2005-2006: all is good\n",
    "\n",
    "19: 2006-2007: 0, 4354; 4512, 13893\n",
    "\n",
    "20: 2007-2008: 0, 411; 616, 4472; 4594, -1\n",
    "\n",
    "21: 2008-2009: all is good\n",
    "\n",
    "22: 2009-2010: 91, 2384; 3149, 15187\n",
    "\n",
    "23: 2010-2011: 0, 13018; 13576, 14869\n",
    "\n",
    "24: 2011-2013: 26, 7787; 7993, 13861\n",
    "\n",
    "25: 2013-2014: all is good\n",
    "\n",
    "26: 2014-2015: 0, 14093\n",
    "\n",
    "27: 2015-2016: all is good\n",
    "\n",
    "28: 2016-2017: 94, 14487\n",
    "\n",
    "29: 2017-2018: 373, 3245; 3439, 3761; 4486, -1"
   ]
  },
  {
   "cell_type": "code",
   "execution_count": 17,
   "metadata": {},
   "outputs": [
    {
     "data": {
      "text/plain": [
       "[<matplotlib.lines.Line2D at 0x7fea1bae6160>]"
      ]
     },
     "execution_count": 17,
     "metadata": {},
     "output_type": "execute_result"
    }
   ],
   "source": [
    "plt.figure()\n",
    "plt.plot(all_migr_rates[29], '.-')"
   ]
  },
  {
   "cell_type": "code",
   "execution_count": 18,
   "metadata": {},
   "outputs": [],
   "source": [
    "migr_rate_0 = all_migr_rates[0].copy(); \n",
    "migr_rate_0[:1038] = np.nan; \n",
    "migr_rate_0[13607:] = np.nan\n",
    "\n",
    "migr_rate_1 = all_migr_rates[1].copy()\n",
    "migr_rate_1[:26] = np.nan\n",
    "migr_rate_1[9625:10235] = np.nan\n",
    "migr_rate_1[12652:] = np.nan\n",
    "\n",
    "migr_rate_2 = all_migr_rates[2].copy()\n",
    "\n",
    "migr_rate_3 = all_migr_rates[3].copy()\n",
    "migr_rate_3[:520] = np.nan \n",
    "migr_rate_3[13186:] = np.nan \n",
    "\n",
    "migr_rate_4 = all_migr_rates[4].copy()\n",
    "migr_rate_4[:28] = np.nan\n",
    "migr_rate_4[5050:5360] = np.nan\n",
    "\n",
    "migr_rate_5 = all_migr_rates[5].copy()\n",
    "migr_rate_5[:897] = np.nan\n",
    "migr_rate_5[7604:7900] = np.nan\n",
    "migr_rate_5[16024:] = np.nan\n",
    "\n",
    "migr_rate_6 = all_migr_rates[6].copy()\n",
    "migr_rate_6[13481:] = np.nan\n",
    "\n",
    "migr_rate_7 = all_migr_rates[7].copy()\n",
    "migr_rate_7[4739:4936] = np.nan\n",
    "\n",
    "migr_rate_8 = all_migr_rates[8].copy()\n",
    "migr_rate_8[9520:9822] = np.nan\n",
    "migr_rate_8[14173:] = np.nan\n",
    "\n",
    "migr_rate_9 = all_migr_rates[9].copy()\n",
    "migr_rate_9[:51] = np.nan\n",
    "migr_rate_9[13815:] = np.nan\n",
    "\n",
    "migr_rate_10 = all_migr_rates[10].copy()\n",
    "migr_rate_10[13560:] = np.nan\n",
    "\n",
    "migr_rate_11 = all_migr_rates[11].copy()\n",
    "migr_rate_11[3016:4035] = np.nan\n",
    "migr_rate_11[13640:] = np.nan\n",
    "\n",
    "migr_rate_12 = all_migr_rates[12].copy()\n",
    "migr_rate_12[:623] = np.nan\n",
    "\n",
    "migr_rate_13 = all_migr_rates[13].copy()\n",
    "migr_rate_13[:26] = np.nan\n",
    "migr_rate_13[13530:] = np.nan\n",
    "\n",
    "migr_rate_14 = all_migr_rates[14].copy()\n",
    "migr_rate_14[15716:] = np.nan\n",
    "\n",
    "migr_rate_15 = all_migr_rates[15].copy()\n",
    "migr_rate_15[:105] = np.nan\n",
    "migr_rate_15[4723:4952] = np.nan\n",
    "migr_rate_15[15847:] = np.nan\n",
    "\n",
    "migr_rate_16 = all_migr_rates[16].copy()\n",
    "\n",
    "migr_rate_17 = all_migr_rates[17].copy()\n",
    "migr_rate_17[:35] = np.nan\n",
    "migr_rate_17[14480:] = np.nan\n",
    "\n",
    "migr_rate_18 = all_migr_rates[18].copy()\n",
    "        \n",
    "migr_rate_19 = all_migr_rates[19].copy()\n",
    "migr_rate_19[4354:4512] = np.nan\n",
    "migr_rate_19[13893:] = np.nan\n",
    "\n",
    "migr_rate_20 = all_migr_rates[20].copy()\n",
    "migr_rate_20[411:616] = np.nan\n",
    "migr_rate_20[4472:4594] = np.nan\n",
    "\n",
    "migr_rate_21 = all_migr_rates[21].copy()\n",
    "\n",
    "migr_rate_22 = all_migr_rates[22].copy()\n",
    "migr_rate_22[:91] = np.nan\n",
    "migr_rate_22[2384:3149] = np.nan\n",
    "migr_rate_22[15187:] = np.nan\n",
    "\n",
    "migr_rate_23 = all_migr_rates[23].copy()\n",
    "migr_rate_23[13018:13576] = np.nan\n",
    "migr_rate_23[14869:] = np.nan\n",
    "\n",
    "migr_rate_24 = all_migr_rates[24].copy()\n",
    "migr_rate_24[:26] = np.nan\n",
    "migr_rate_24[7787:7993] = np.nan\n",
    "migr_rate_24[13861:] = np.nan\n",
    "\n",
    "migr_rate_25 = all_migr_rates[25].copy()\n",
    "\n",
    "migr_rate_26 = all_migr_rates[26].copy()\n",
    "migr_rate_26[14093:] = np.nan\n",
    "\n",
    "migr_rate_27 = all_migr_rates[27].copy()\n",
    "\n",
    "migr_rate_28 = all_migr_rates[28].copy()\n",
    "migr_rate_28[:94] = np.nan\n",
    "migr_rate_28[14487:] = np.nan\n",
    "\n",
    "migr_rate_29 = all_migr_rates[29].copy()\n",
    "migr_rate_29[:373] = np.nan\n",
    "migr_rate_29[3245:3439] = np.nan\n",
    "migr_rate_29[3761:4486] = np.nan"
   ]
  },
  {
   "cell_type": "code",
   "execution_count": 19,
   "metadata": {},
   "outputs": [],
   "source": [
    "all_migr_rates_clean = [] # list for migration rates with no bad values\n",
    "all_migr_rates_clean.append(migr_rate_0)\n",
    "all_migr_rates_clean.append(migr_rate_1)\n",
    "all_migr_rates_clean.append(migr_rate_2)\n",
    "all_migr_rates_clean.append(migr_rate_3)\n",
    "all_migr_rates_clean.append(migr_rate_4)\n",
    "all_migr_rates_clean.append(migr_rate_5)\n",
    "all_migr_rates_clean.append(migr_rate_6)\n",
    "all_migr_rates_clean.append(migr_rate_7)\n",
    "all_migr_rates_clean.append(migr_rate_8)\n",
    "all_migr_rates_clean.append(migr_rate_9)\n",
    "all_migr_rates_clean.append(migr_rate_10)\n",
    "all_migr_rates_clean.append(migr_rate_11)\n",
    "all_migr_rates_clean.append(migr_rate_12)\n",
    "all_migr_rates_clean.append(migr_rate_13)\n",
    "all_migr_rates_clean.append(migr_rate_14)\n",
    "all_migr_rates_clean.append(migr_rate_15)\n",
    "all_migr_rates_clean.append(migr_rate_16)\n",
    "all_migr_rates_clean.append(migr_rate_17)\n",
    "all_migr_rates_clean.append(migr_rate_18)\n",
    "all_migr_rates_clean.append(migr_rate_19)\n",
    "all_migr_rates_clean.append(migr_rate_20)\n",
    "all_migr_rates_clean.append(migr_rate_21)\n",
    "all_migr_rates_clean.append(migr_rate_22)\n",
    "all_migr_rates_clean.append(migr_rate_23)\n",
    "all_migr_rates_clean.append(migr_rate_24)\n",
    "all_migr_rates_clean.append(migr_rate_25)\n",
    "all_migr_rates_clean.append(migr_rate_26)\n",
    "all_migr_rates_clean.append(migr_rate_27)\n",
    "all_migr_rates_clean.append(migr_rate_28)\n",
    "all_migr_rates_clean.append(migr_rate_29)"
   ]
  },
  {
   "cell_type": "code",
   "execution_count": 20,
   "metadata": {},
   "outputs": [],
   "source": [
    "# list for migration rates with no bad values and no nans (for plotting/statistics):\n",
    "all_migr_rates_clean_no_nans = []\n",
    "for m_rates in all_migr_rates_clean:\n",
    "    all_migr_rates_clean_no_nans.append(np.abs(m_rates[np.isnan(m_rates)==0]))\n",
    "    \n",
    "time_intervals = []\n",
    "for i in range(len(dates)-1):\n",
    "    time_intervals.append(dates[i][:4] + ' - ' + dates[i+1][:4])"
   ]
  },
  {
   "cell_type": "code",
   "execution_count": 21,
   "metadata": {},
   "outputs": [],
   "source": [
    "all_migr_rates_clean_no_nans_for_plot = []\n",
    "for m_rates in all_migr_rates_clean_no_nans:\n",
    "    all_migr_rates_clean_no_nans_for_plot += list(m_rates)\n",
    "time_intervals_for_plot = []\n",
    "count = 0\n",
    "for time_interval in time_intervals:\n",
    "    time_intervals_for_plot += [time_interval]*len(all_migr_rates_clean_no_nans[count])\n",
    "    count += 1"
   ]
  },
  {
   "cell_type": "code",
   "execution_count": 22,
   "metadata": {},
   "outputs": [],
   "source": [
    "import seaborn as sns\n",
    "plt.figure()\n",
    "chart = sns.boxplot(x = time_intervals_for_plot, y = all_migr_rates_clean_no_nans_for_plot,\n",
    "            flierprops = {'marker':'.', 'markersize':2})\n",
    "chart.set_xticklabels(chart.get_xticklabels(), rotation=90)\n",
    "plt.ylim(-10, 600)\n",
    "plt.ylabel('migration rate (m/year)')\n",
    "plt.plot([0, 29],[60, 60], 'k--');"
   ]
  },
  {
   "cell_type": "code",
   "execution_count": 26,
   "metadata": {},
   "outputs": [],
   "source": [
    "widths_new = []\n",
    "for date in dates:\n",
    "    filename = '/Users/zoltan/Dropbox/Channels/channelmapper/shapefiles/polys_'+date[:4]\n",
    "    sf = shapefile.Reader(filename).shapes()\n",
    "    w = []\n",
    "    for i in range(len(sf)):\n",
    "        dist1 = np.linalg.norm(np.array(sf[i].points[0]) - np.array(sf[i].points[1]))\n",
    "        dist2 = np.linalg.norm(np.array(sf[i].points[2]) - np.array(sf[i].points[3]))\n",
    "        dist = 0.5*(dist1 + dist2)\n",
    "        w.append(dist)\n",
    "    widths_new.append(w)"
   ]
  },
  {
   "cell_type": "code",
   "execution_count": 27,
   "metadata": {},
   "outputs": [],
   "source": [
    "widths_new_for_plot = []\n",
    "for w in widths_new:\n",
    "    widths_new_for_plot += w\n",
    "dates_for_plot = []\n",
    "count = 0\n",
    "for date in dates:\n",
    "    dates_for_plot += [date[:4]]*len(widths_new[count])\n",
    "    count += 1"
   ]
  },
  {
   "cell_type": "code",
   "execution_count": 28,
   "metadata": {},
   "outputs": [],
   "source": [
    "plt.figure()\n",
    "chart = sns.boxplot(x = dates_for_plot, y = widths_new_for_plot, flierprops = {'marker':'.', 'markersize':2})\n",
    "chart.set_xticklabels(chart.get_xticklabels(), rotation=90)\n",
    "plt.ylim(100, 800)\n",
    "plt.ylabel('channel width (m)')\n",
    "plt.plot([0, 30],[350, 350], 'k--');"
   ]
  }
 ],
 "metadata": {
  "kernelspec": {
   "display_name": "Python 3",
   "language": "python",
   "name": "python3"
  },
  "language_info": {
   "codemirror_mode": {
    "name": "ipython",
    "version": 3
   },
   "file_extension": ".py",
   "mimetype": "text/x-python",
   "name": "python",
   "nbconvert_exporter": "python",
   "pygments_lexer": "ipython3",
   "version": "3.8.2"
  }
 },
 "nbformat": 4,
 "nbformat_minor": 4
}
